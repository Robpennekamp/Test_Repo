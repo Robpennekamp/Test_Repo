{
  "nbformat": 4,
  "nbformat_minor": 0,
  "metadata": {
    "colab": {
      "name": "Untitled0.ipynb",
      "provenance": [],
      "authorship_tag": "ABX9TyO6AUX/XXjDfqMLMW34gPkS",
      "include_colab_link": true
    },
    "kernelspec": {
      "name": "python3",
      "display_name": "Python 3"
    },
    "language_info": {
      "name": "python"
    }
  },
  "cells": [
    {
      "cell_type": "markdown",
      "metadata": {
        "id": "view-in-github",
        "colab_type": "text"
      },
      "source": [
        "<a href=\"https://colab.research.google.com/github/Robpennekamp/Test_Repo/blob/main/StarWars.ipynb\" target=\"_parent\"><img src=\"https://colab.research.google.com/assets/colab-badge.svg\" alt=\"Open In Colab\"/></a>"
      ]
    },
    {
      "cell_type": "code",
      "execution_count": 1,
      "metadata": {
        "colab": {
          "base_uri": "https://localhost:8080/"
        },
        "id": "0ffQRw6N41Co",
        "outputId": "610e4d48-89dc-4520-d35a-b3c1176d8a92"
      },
      "outputs": [
        {
          "output_type": "stream",
          "name": "stdout",
          "text": [
            "Hello there, young padawan.\n",
            "Hello there, young padawan.\n",
            "Hello there, young padawan.\n",
            "Hello there, young padawan.\n",
            "Hello there, young padawan.\n",
            "Hello there, young padawan.\n",
            "Hello there, young padawan.\n",
            "Hello there, young padawan.\n",
            "Hello there, young padawan.\n",
            "Hello there, young padawan.\n",
            "Hello there, young padawan.\n",
            "Hello there, young padawan.\n",
            "Hello there, young padawan.\n",
            "Hello there, young padawan.\n",
            "Hello there, young padawan.\n",
            "Hello there, young padawan.\n",
            "Hello there, young padawan.\n",
            "Hello there, young padawan.\n",
            "Hello there, young padawan.\n",
            "Hello there, young padawan.\n",
            "Hello there, young padawan.\n",
            "Hello there, young padawan.\n",
            "Hello there, young padawan.\n",
            "Hello there, young padawan.\n",
            "Hello there, young padawan.\n",
            "Hello there, young padawan.\n",
            "Hello there, young padawan.\n",
            "Hello there, young padawan.\n",
            "Hello there, young padawan.\n",
            "Hello there, young padawan.\n",
            "Hello there, young padawan.\n",
            "Hello there, young padawan.\n",
            "Hello there, young padawan.\n",
            "Hello there, young padawan.\n",
            "Hello there, young padawan.\n",
            "Hello there, young padawan.\n",
            "Hello there, young padawan.\n",
            "Hello there, young padawan.\n",
            "Hello there, young padawan.\n",
            "Hello there, young padawan.\n",
            "Hello there, young padawan.\n",
            "Hello there, young padawan.\n",
            "Hello there, young padawan.\n",
            "Hello there, young padawan.\n",
            "Hello there, young padawan.\n",
            "Hello there, young padawan.\n",
            "Hello there, young padawan.\n",
            "Hello there, young padawan.\n",
            "Hello there, young padawan.\n",
            "Hello there, young padawan.\n"
          ]
        }
      ],
      "source": [
        "for x in range(0, 100, 2):\n",
        "  print(\"Hello there, young padawan.\")"
      ]
    },
    {
      "cell_type": "code",
      "source": [
        ""
      ],
      "metadata": {
        "id": "5X43tmkI463V"
      },
      "execution_count": null,
      "outputs": []
    }
  ]
}